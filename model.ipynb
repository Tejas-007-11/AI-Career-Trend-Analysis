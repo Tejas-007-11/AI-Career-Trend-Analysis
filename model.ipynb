{
 "cells": [
  {
   "cell_type": "code",
   "execution_count": 2,
   "metadata": {},
   "outputs": [
    {
     "name": "stdout",
     "output_type": "stream",
     "text": [
      "Data processing complete. Trending skills: ['javascript', 'java', 'clojure', 'basic', 'visual', 'net', 'vba', 'elixir', 'sql', 'python']\n"
     ]
    }
   ],
   "source": [
    "import pandas as pd\n",
    "import pickle\n",
    "from sklearn.feature_extraction.text import TfidfVectorizer\n",
    "from sklearn.decomposition import LatentDirichletAllocation\n",
    "\n",
    "def load_and_clean_data():\n",
    "    df = pd.read_csv(\"survey_results_public.csv\")  # Update with correct filename\n",
    "    \n",
    "    # Selecting relevant columns\n",
    "    columns_needed = [\n",
    "        \"DevType\", \"YearsCodePro\", \"WorkExp\", \"LanguageHaveWorkedWith\", \n",
    "        \"DatabaseHaveWorkedWith\", \"ToolsTechHaveWorkedWith\", \"AIToolCurrently Using\", \n",
    "        \"AIToolInterested in Using\", \"CompTotal\", \"JobSat\", \"Industry\"\n",
    "    ]\n",
    "    df = df[columns_needed].dropna()\n",
    "    \n",
    "    return df\n",
    "\n",
    "def extract_trending_skills(df):\n",
    "    vectorizer = TfidfVectorizer(stop_words='english')\n",
    "    X = vectorizer.fit_transform(df['LanguageHaveWorkedWith'].astype(str))\n",
    "    lda = LatentDirichletAllocation(n_components=5, random_state=42)\n",
    "    lda.fit(X)\n",
    "    feature_names = vectorizer.get_feature_names_out()\n",
    "    trending_skills = [feature_names[i] for i in lda.components_[0].argsort()[-10:]]\n",
    "    return trending_skills\n",
    "\n",
    "def save_to_pickle(df, filename=\"career_trends.pkl\"):\n",
    "    \"\"\" Saves the dataframe to a pickle file instead of a database \"\"\"\n",
    "    with open(filename, \"wb\") as f:\n",
    "        pickle.dump(df, f)\n",
    "\n",
    "def load_from_pickle(filename=\"career_trends.pkl\"):\n",
    "    \"\"\" Loads the dataframe from the pickle file \"\"\"\n",
    "    with open(filename, \"rb\") as f:\n",
    "        return pickle.load(f)\n",
    "\n",
    "# Process and save data\n",
    "df = load_and_clean_data()\n",
    "skills = extract_trending_skills(df)\n",
    "save_to_pickle(df)\n",
    "\n",
    "print(\"Data processing complete. Trending skills:\", skills)\n",
    "\n",
    "\n"
   ]
  },
  {
   "cell_type": "code",
   "execution_count": null,
   "metadata": {},
   "outputs": [],
   "source": []
  }
 ],
 "metadata": {
  "kernelspec": {
   "display_name": "Python 3",
   "language": "python",
   "name": "python3"
  },
  "language_info": {
   "codemirror_mode": {
    "name": "ipython",
    "version": 3
   },
   "file_extension": ".py",
   "mimetype": "text/x-python",
   "name": "python",
   "nbconvert_exporter": "python",
   "pygments_lexer": "ipython3",
   "version": "3.12.6"
  }
 },
 "nbformat": 4,
 "nbformat_minor": 2
}
