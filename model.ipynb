{
 "cells": [
  {
   "cell_type": "code",
   "execution_count": 2,
   "metadata": {},
   "outputs": [
    {
     "name": "stdout",
     "output_type": "stream",
     "text": [
      "Data processing complete. Trending skills: ['javascript', 'java', 'clojure', 'basic', 'visual', 'net', 'vba', 'elixir', 'sql', 'python']\n"
     ]
    }
   ],
   "source": [
    "import pandas as pd\n",
    "import sqlite3\n",
    "from sklearn.feature_extraction.text import TfidfVectorizer\n",
    "from sklearn.decomposition import LatentDirichletAllocation\n",
    "\n",
    "def load_and_clean_data():\n",
    "    df = pd.read_csv(\"survey_results_public.csv\")  # Update with correct filename\n",
    "    \n",
    "    # Selecting relevant columns\n",
    "    columns_needed = [\n",
    "        \"DevType\", \"YearsCodePro\", \"WorkExp\", \"LanguageHaveWorkedWith\", \n",
    "        \"DatabaseHaveWorkedWith\", \"ToolsTechHaveWorkedWith\", \"AIToolCurrently Using\", \n",
    "        \"AIToolInterested in Using\", \"CompTotal\", \"JobSat\", \"Industry\"\n",
    "    ]\n",
    "    df = df[columns_needed].dropna()\n",
    "    \n",
    "    return df\n",
    "\n",
    "def extract_trending_skills(df):\n",
    "    vectorizer = TfidfVectorizer(stop_words='english')\n",
    "    X = vectorizer.fit_transform(df['LanguageHaveWorkedWith'].astype(str))\n",
    "    lda = LatentDirichletAllocation(n_components=5, random_state=42)\n",
    "    lda.fit(X)\n",
    "    feature_names = vectorizer.get_feature_names_out()\n",
    "    trending_skills = [feature_names[i] for i in lda.components_[0].argsort()[-10:]]\n",
    "    return trending_skills\n",
    "\n",
    "def save_to_database(df):\n",
    "    conn = sqlite3.connect(\"career_trends.db\")\n",
    "    df.to_sql(\"job_data\", conn, if_exists=\"replace\", index=False)\n",
    "    conn.close()\n",
    "\n",
    "df = load_and_clean_data()\n",
    "skills = extract_trending_skills(df)\n",
    "save_to_database(df)\n",
    "print(\"Data processing complete. Trending skills:\", skills)\n",
    "\n"
   ]
  },
  {
   "cell_type": "code",
   "execution_count": null,
   "metadata": {},
   "outputs": [],
   "source": []
  }
 ],
 "metadata": {
  "kernelspec": {
   "display_name": "Python 3",
   "language": "python",
   "name": "python3"
  },
  "language_info": {
   "codemirror_mode": {
    "name": "ipython",
    "version": 3
   },
   "file_extension": ".py",
   "mimetype": "text/x-python",
   "name": "python",
   "nbconvert_exporter": "python",
   "pygments_lexer": "ipython3",
   "version": "3.12.6"
  }
 },
 "nbformat": 4,
 "nbformat_minor": 2
}
